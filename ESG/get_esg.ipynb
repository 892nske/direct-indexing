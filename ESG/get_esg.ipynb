{
 "cells": [
  {
   "cell_type": "code",
   "execution_count": 3,
   "id": "40073332-49eb-4085-8e33-aae1a5bac383",
   "metadata": {},
   "outputs": [
    {
     "name": "stdout",
     "output_type": "stream",
     "text": [
      "Collecting yesg\n",
      "  Downloading yesg-2.1.1.tar.gz (5.8 kB)\n",
      "  Preparing metadata (setup.py) ... \u001b[?25ldone\n",
      "\u001b[?25hBuilding wheels for collected packages: yesg\n",
      "  Building wheel for yesg (setup.py) ... \u001b[?25ldone\n",
      "\u001b[?25h  Created wheel for yesg: filename=yesg-2.1.1-py3-none-any.whl size=6105 sha256=0a99dca2ba056827bc0efd18070169b4b2ce4a5b4a20432b35efd3f464270d68\n",
      "  Stored in directory: /home/koumon/.cache/pip/wheels/12/68/ee/890f7bd8e433ee415c03f4a1e772c5709e987926ed6fb07e55\n",
      "Successfully built yesg\n",
      "Installing collected packages: yesg\n",
      "Successfully installed yesg-2.1.1\n"
     ]
    }
   ],
   "source": [
    "!pip install yesg"
   ]
  },
  {
   "cell_type": "code",
   "execution_count": 4,
   "id": "0943a40d-c389-4fb5-aaf2-9b98522d8e7c",
   "metadata": {},
   "outputs": [],
   "source": [
    "import yesg\n",
    "from pandas_datareader import data  as pdr #修正\n",
    "from datetime import date\n",
    "from dateutil.relativedelta import relativedelta\n",
    "import pandas as pd\n",
    "import yfinance as yf #追加\n",
    "yf.pdr_override() #追加"
   ]
  },
  {
   "cell_type": "code",
   "execution_count": 2,
   "id": "9b1a7e81-04e0-4e4f-b9eb-633756ed9798",
   "metadata": {},
   "outputs": [],
   "source": [
    "y=yesg.get_esg_full('BA')"
   ]
  },
  {
   "cell_type": "code",
   "execution_count": 5,
   "id": "89dfa566-abda-4f2e-9514-712bada19c23",
   "metadata": {},
   "outputs": [],
   "source": [
    "tickers=pd.read_csv('../sp500/sp500_alive.csv')"
   ]
  },
  {
   "cell_type": "code",
   "execution_count": null,
   "id": "b785d5be-d1d2-4b3e-972c-274104fa71ef",
   "metadata": {},
   "outputs": [],
   "source": [
    "for index, row in tickers.iterrows():\n",
    "    ticker = row.values[0]\n",
    "    data = pdr.get_data_yahoo(ticker,  '2020-01-01', '2022-12-31') \n",
    "    "
   ]
  }
 ],
 "metadata": {
  "kernelspec": {
   "display_name": "Python 3 (ipykernel)",
   "language": "python",
   "name": "python3"
  },
  "language_info": {
   "codemirror_mode": {
    "name": "ipython",
    "version": 3
   },
   "file_extension": ".py",
   "mimetype": "text/x-python",
   "name": "python",
   "nbconvert_exporter": "python",
   "pygments_lexer": "ipython3",
   "version": "3.8.13"
  }
 },
 "nbformat": 4,
 "nbformat_minor": 5
}
