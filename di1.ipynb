{
 "cells": [
  {
   "cell_type": "code",
   "execution_count": 2,
   "id": "97ce337a-e666-4aa8-b856-29173c5f7bfb",
   "metadata": {},
   "outputs": [],
   "source": [
    "import numpy as np\n",
    "import scipy.stats as st\n",
    "import cvxpy as cvx"
   ]
  },
  {
   "cell_type": "code",
   "execution_count": 4,
   "id": "9d813516-4eee-430a-9c73-e7363eb0efc7",
   "metadata": {},
   "outputs": [
    {
     "name": "stdout",
     "output_type": "stream",
     "text": [
      "Collecting cvxpy\n",
      "  Downloading cvxpy-1.3.0-cp38-cp38-manylinux_2_17_x86_64.manylinux2014_x86_64.whl (4.0 MB)\n",
      "\u001b[K     |████████████████████████████████| 4.0 MB 747 kB/s eta 0:00:01\n",
      "\u001b[?25hCollecting osqp>=0.4.1\n",
      "  Downloading osqp-0.6.2.post8-cp38-cp38-manylinux_2_5_x86_64.manylinux1_x86_64.manylinux_2_17_x86_64.manylinux2014_x86_64.whl (299 kB)\n",
      "\u001b[K     |████████████████████████████████| 299 kB 5.3 MB/s eta 0:00:01\n",
      "\u001b[?25hCollecting ecos>=2\n",
      "  Downloading ecos-2.0.12-cp38-cp38-manylinux_2_17_x86_64.manylinux2014_x86_64.whl (221 kB)\n",
      "\u001b[K     |████████████████████████████████| 221 kB 4.7 MB/s eta 0:00:01\n",
      "\u001b[?25hRequirement already satisfied: setuptools<=64.0.2 in /home/nske/miniconda3/envs/jp38/lib/python3.8/site-packages (from cvxpy) (58.0.4)\n",
      "Requirement already satisfied: scipy>=1.1.0 in /home/nske/miniconda3/envs/jp38/lib/python3.8/site-packages (from cvxpy) (1.7.1)\n",
      "Requirement already satisfied: numpy>=1.15 in /home/nske/miniconda3/envs/jp38/lib/python3.8/site-packages (from cvxpy) (1.24.1)\n",
      "Collecting scs>=1.1.6\n",
      "  Downloading scs-3.2.2-cp38-cp38-manylinux_2_17_x86_64.manylinux2014_x86_64.whl (10.7 MB)\n",
      "\u001b[K     |████████████████████████████████| 10.7 MB 7.4 MB/s eta 0:00:01\n",
      "\u001b[?25hCollecting qdldl\n",
      "  Downloading qdldl-0.1.5.post3-cp38-cp38-manylinux_2_17_x86_64.manylinux2014_x86_64.whl (1.0 MB)\n",
      "\u001b[K     |████████████████████████████████| 1.0 MB 6.7 MB/s eta 0:00:01\n",
      "\u001b[?25hCollecting numpy>=1.15\n",
      "  Downloading numpy-1.22.4-cp38-cp38-manylinux_2_17_x86_64.manylinux2014_x86_64.whl (16.9 MB)\n",
      "\u001b[K     |████████████████████████████████| 16.9 MB 8.8 MB/s eta 0:00:01\n",
      "\u001b[?25hInstalling collected packages: numpy, qdldl, scs, osqp, ecos, cvxpy\n",
      "  Attempting uninstall: numpy\n",
      "    Found existing installation: numpy 1.24.1\n",
      "    Uninstalling numpy-1.24.1:\n",
      "      Successfully uninstalled numpy-1.24.1\n",
      "\u001b[31mERROR: pip's dependency resolver does not currently take into account all the packages that are installed. This behaviour is the source of the following dependency conflicts.\n",
      "numba 0.54.1 requires numpy<1.21,>=1.17, but you have numpy 1.22.4 which is incompatible.\u001b[0m\n",
      "Successfully installed cvxpy-1.3.0 ecos-2.0.12 numpy-1.22.4 osqp-0.6.2.post8 qdldl-0.1.5.post3 scs-3.2.2\n"
     ]
    }
   ],
   "source": [
    "!pip install cvxpy"
   ]
  },
  {
   "cell_type": "code",
   "execution_count": 3,
   "id": "9f4ba666-29e2-4cdd-bd32-48415feb34fc",
   "metadata": {},
   "outputs": [
    {
     "ename": "ModuleNotFoundError",
     "evalue": "No module named 'pandas.io.data'",
     "output_type": "error",
     "traceback": [
      "\u001b[0;31m---------------------------------------------------------------------------\u001b[0m",
      "\u001b[0;31mModuleNotFoundError\u001b[0m                       Traceback (most recent call last)",
      "Cell \u001b[0;32mIn [3], line 1\u001b[0m\n\u001b[0;32m----> 1\u001b[0m \u001b[38;5;28;01mimport\u001b[39;00m \u001b[38;5;21;01mpandas\u001b[39;00m\u001b[38;5;21;01m.\u001b[39;00m\u001b[38;5;21;01mio\u001b[39;00m\u001b[38;5;21;01m.\u001b[39;00m\u001b[38;5;21;01mdata\u001b[39;00m \u001b[38;5;28;01mas\u001b[39;00m \u001b[38;5;21;01mweb\u001b[39;00m\n\u001b[1;32m      3\u001b[0m all_data \u001b[38;5;241m=\u001b[39m {}\n\u001b[1;32m      4\u001b[0m \u001b[38;5;28;01mfor\u001b[39;00m ticker \u001b[38;5;129;01min\u001b[39;00m [\u001b[38;5;124m'\u001b[39m\u001b[38;5;124mAAPL\u001b[39m\u001b[38;5;124m'\u001b[39m, \u001b[38;5;124m'\u001b[39m\u001b[38;5;124mIBM\u001b[39m\u001b[38;5;124m'\u001b[39m, \u001b[38;5;124m'\u001b[39m\u001b[38;5;124mMSFT\u001b[39m\u001b[38;5;124m'\u001b[39m, \u001b[38;5;124m'\u001b[39m\u001b[38;5;124mGOOG\u001b[39m\u001b[38;5;124m'\u001b[39m]:\n",
      "\u001b[0;31mModuleNotFoundError\u001b[0m: No module named 'pandas.io.data'"
     ]
    }
   ],
   "source": [
    "import pandas.io.data as web\n",
    "\n",
    "all_data = {}\n",
    "for ticker in ['AAPL', 'IBM', 'MSFT', 'GOOG']:\n",
    "    all_data[ticker] = web.get_data_yahoo(ticker, '1/1/2003', '1/1/2013')\n",
    "\n",
    "price = DataFrame({tic: data['Adj Close']\n",
    "                   for tic, data in all_data.iteritems()})\n",
    "volume = DataFrame({tic: data['Volume']\n",
    "                    for tic, data in all_data.iteritems()})"
   ]
  },
  {
   "cell_type": "code",
   "execution_count": null,
   "id": "15b1b47c-4306-4747-bb94-9f31d42a4e64",
   "metadata": {},
   "outputs": [],
   "source": [
    "from pandas_datareader import data  as pdr #修正\n",
    "from datetime import date\n",
    "from dateutil.relativedelta import relativedelta\n",
    "import yfinance as yf #追加\n",
    "yf.pdr_override() #追加\n",
    "\n",
    "today = date.today()\n",
    "ago = today - relativedelta(years=10)\n",
    "data = pdr.get_data_yahoo('^N225',  ago, today) #修正\n",
    "print(data)\n"
   ]
  },
  {
   "cell_type": "code",
   "execution_count": 10,
   "id": "c083c062-27e5-4342-9f41-193da9f28ce0",
   "metadata": {},
   "outputs": [],
   "source": [
    "from pandas_datareader import data  as pdr #修正\n",
    "from datetime import date\n",
    "from dateutil.relativedelta import relativedelta\n",
    "import yfinance as yf #追加\n",
    "yf.pdr_override() #追加"
   ]
  },
  {
   "cell_type": "code",
   "execution_count": 11,
   "id": "51a80d33-2e73-460d-989a-debe86df7ee7",
   "metadata": {},
   "outputs": [],
   "source": [
    "\n",
    "today = date.today()\n",
    "ago = today - relativedelta(years=10)"
   ]
  },
  {
   "cell_type": "code",
   "execution_count": 18,
   "id": "eeb5d492-42dd-4042-989a-a6a8933636d4",
   "metadata": {},
   "outputs": [
    {
     "name": "stdout",
     "output_type": "stream",
     "text": [
      "[*********************100%***********************]  1 of 1 completed\n"
     ]
    }
   ],
   "source": [
    "sp500 = pdr.get_data_yahoo('^GSPC',  '2013-01-01', '2022-12-31') \n",
    "sp500.to_csv('sp500.csv')"
   ]
  },
  {
   "cell_type": "code",
   "execution_count": 20,
   "id": "822eb36f-3dd1-4946-a12c-b744f325c340",
   "metadata": {},
   "outputs": [],
   "source": [
    "# https://www.liberatedstocktrader.com/sp-500-companies/ から取得したSP500の時価総額上位50社\n",
    "tickers=pd.read_csv('tickers.csv')"
   ]
  },
  {
   "cell_type": "code",
   "execution_count": 27,
   "id": "f2822d14-2283-4452-838a-959ad28c9e9e",
   "metadata": {},
   "outputs": [
    {
     "data": {
      "text/plain": [
       "'MSFT'"
      ]
     },
     "execution_count": 27,
     "metadata": {},
     "output_type": "execute_result"
    }
   ],
   "source": [
    "tickers.iloc[1,0]"
   ]
  },
  {
   "cell_type": "code",
   "execution_count": 28,
   "id": "b743853a-2602-4ead-a544-d35eace34819",
   "metadata": {},
   "outputs": [
    {
     "name": "stdout",
     "output_type": "stream",
     "text": [
      "[*********************100%***********************]  1 of 1 completed\n"
     ]
    }
   ],
   "source": [
    "ticker = tickers.iloc[1,0]\n",
    "data = pdr.get_data_yahoo(ticker,  '2013-01-01', '2022-12-31') \n",
    "data.to_csv(ticker+'.csv')"
   ]
  },
  {
   "cell_type": "code",
   "execution_count": null,
   "id": "24c0f70f-9451-4845-b3ee-cbfdf38b5f80",
   "metadata": {},
   "outputs": [],
   "source": []
  }
 ],
 "metadata": {
  "kernelspec": {
   "display_name": "Python 3 (ipykernel)",
   "language": "python",
   "name": "python3"
  },
  "language_info": {
   "codemirror_mode": {
    "name": "ipython",
    "version": 3
   },
   "file_extension": ".py",
   "mimetype": "text/x-python",
   "name": "python",
   "nbconvert_exporter": "python",
   "pygments_lexer": "ipython3",
   "version": "3.8.13"
  }
 },
 "nbformat": 4,
 "nbformat_minor": 5
}
